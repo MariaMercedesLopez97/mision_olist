{
 "cells": [
  {
   "cell_type": "code",
   "execution_count": null,
   "metadata": {
    "vscode": {
     "languageId": "plaintext"
    }
   },
   "outputs": [],
   "source": [
    "# Asegurarse de que la columna 'InvoiceDate' esté en formato de cadena\n",
    "df['InvoiceDate'] = df['InvoiceDate'].astype(str)"
   ]
  },
  {
   "cell_type": "code",
   "execution_count": null,
   "metadata": {
    "vscode": {
     "languageId": "plaintext"
    }
   },
   "outputs": [],
   "source": [
    "# Convertir la columna 'InvoiceDate' en 2 columnas en fecha y hora\n",
    "df[['Fecha', 'Hora']] = df['InvoiceDate'].str.split(' ', expand=True)"
   ]
  },
  {
   "cell_type": "code",
   "execution_count": null,
   "metadata": {
    "vscode": {
     "languageId": "plaintext"
    }
   },
   "outputs": [],
   "source": [
    "# Mostrar el DataFrame con las nuevas columnas\n",
    "print(df[['InvoiceDate', 'Fecha', 'Hora']].head())"
   ]
  }
 ],
 "metadata": {
  "language_info": {
   "name": "python"
  }
 },
 "nbformat": 4,
 "nbformat_minor": 2
}
