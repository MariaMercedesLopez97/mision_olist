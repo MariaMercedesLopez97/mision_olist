{
 "cells": [
  {
   "cell_type": "markdown",
   "metadata": {},
   "source": [
    " # Caso 3: Estimacion de Tiempo de Entrega"
   ]
  },
  {
   "cell_type": "markdown",
   "metadata": {},
   "source": [
    "Descripción: Se enfoca en estimar el tiempo de entrega de los pedidos utilizando los datasets olist_order_items_dataset.csv y olist_orders_dataset.csv."
   ]
  },
  {
   "cell_type": "markdown",
   "metadata": {},
   "source": [
    "# 1 Cargar y Preprocesar Datos"
   ]
  },
  {
   "cell_type": "markdown",
   "metadata": {},
   "source": [
    "- Importacion de Librerias Necesarias"
   ]
  },
  {
   "cell_type": "code",
   "execution_count": 15,
   "metadata": {},
   "outputs": [],
   "source": [
    "import pandas as pd"
   ]
  },
  {
   "cell_type": "markdown",
   "metadata": {},
   "source": [
    "- Cargar y Preprocesar Datos"
   ]
  },
  {
   "cell_type": "code",
   "execution_count": null,
   "metadata": {},
   "outputs": [],
   "source": [
    "# Cargar datasets\n",
    "order_items = pd.read_csv('../datos/olist_order_items_dataset.csv')\n",
    "orders = pd.read_csv('../datos/olist_orders_dataset.csv')"
   ]
  },
  {
   "cell_type": "markdown",
   "metadata": {},
   "source": [
    "- Union de los dataset"
   ]
  },
  {
   "cell_type": "code",
   "execution_count": 3,
   "metadata": {},
   "outputs": [],
   "source": [
    "# Unir los datasets según sea necesario\n",
    "data = pd.merge(order_items, orders, on='order_id')"
   ]
  },
  {
   "cell_type": "markdown",
   "metadata": {},
   "source": [
    "- Conversión de fechas a formato datetime."
   ]
  },
  {
   "cell_type": "code",
   "execution_count": 4,
   "metadata": {},
   "outputs": [],
   "source": [
    "# Convertir fechas a formato datetime\n",
    "data['order_purchase_timestamp'] = pd.to_datetime(data['order_purchase_timestamp'])\n",
    "data['order_delivered_customer_date'] = pd.to_datetime(data['order_delivered_customer_date'])"
   ]
  },
  {
   "cell_type": "markdown",
   "metadata": {},
   "source": [
    "- Creación de una columna para el tiempo de entrega en días."
   ]
  },
  {
   "cell_type": "code",
   "execution_count": 5,
   "metadata": {},
   "outputs": [],
   "source": [
    "# Crear una columna de tiempo de entrega en días\n",
    "data['delivery_time_days'] = (data['order_delivered_customer_date'] - data['order_purchase_timestamp']).dt.days"
   ]
  },
  {
   "cell_type": "markdown",
   "metadata": {},
   "source": [
    "- Conversión de product_id a una representación numérica."
   ]
  },
  {
   "cell_type": "code",
   "execution_count": 6,
   "metadata": {},
   "outputs": [],
   "source": [
    "#Convertir product_id a una representación numérica\n",
    "data['product_id'] = data['product_id'].astype('category').cat.codes"
   ]
  },
  {
   "cell_type": "code",
   "execution_count": 7,
   "metadata": {},
   "outputs": [],
   "source": [
    "# Crear nuevas características relevantes\n",
    "data['purchase_year'] = data['order_purchase_timestamp'].dt.year\n",
    "data['purchase_month'] = data['order_purchase_timestamp'].dt.month\n",
    "data['delivery_weekday'] = data['order_delivered_customer_date'].dt.weekday"
   ]
  },
  {
   "cell_type": "code",
   "execution_count": 8,
   "metadata": {},
   "outputs": [],
   "source": [
    "# Definir las características (X) y la etiqueta (y)\n",
    "X = data[['purchase_year', 'purchase_month', 'delivery_weekday', 'product_id']]\n",
    "y = data['delivery_time_days']"
   ]
  },
  {
   "cell_type": "code",
   "execution_count": 9,
   "metadata": {},
   "outputs": [
    {
     "name": "stdout",
     "output_type": "stream",
     "text": [
      "                           order_id  order_item_id  product_id  \\\n",
      "0  00010242fe8c5a6d1ba2dd792cb16214              1        8628   \n",
      "1  00018f77f2f0320c557190d7a144bdd3              1       29597   \n",
      "2  000229ec398224ef6ca0657da4fc703e              1       25667   \n",
      "3  00024acbcdf0a6daa1e931b038114c75              1       15322   \n",
      "4  00042b26cf59d7ce69dfabb4e55b4fd9              1       22079   \n",
      "\n",
      "                          seller_id  shipping_limit_date   price  \\\n",
      "0  48436dade18ac8b2bce089ec2a041202  2017-09-19 09:45:35   58.90   \n",
      "1  dd7ddc04e1b6c2c614352b383efe2d36  2017-05-03 11:05:13  239.90   \n",
      "2  5b51032eddd242adc84c38acab88f23d  2018-01-18 14:48:30  199.00   \n",
      "3  9d7a1d34a5052409006425275ba1c2b4  2018-08-15 10:10:18   12.99   \n",
      "4  df560393f3a51e74553ab94004ba5c87  2017-02-13 13:57:51  199.90   \n",
      "\n",
      "   freight_value                       customer_id order_status  \\\n",
      "0          13.29  3ce436f183e68e07877b285a838db11a    delivered   \n",
      "1          19.93  f6dd3ec061db4e3987629fe6b26e5cce    delivered   \n",
      "2          17.87  6489ae5e4333f3693df5ad4372dab6d3    delivered   \n",
      "3          12.79  d4eb9395c8c0431ee92fce09860c5a06    delivered   \n",
      "4          18.14  58dbd0b2d70206bf40e62cd34e84d795    delivered   \n",
      "\n",
      "  order_purchase_timestamp    order_approved_at order_delivered_carrier_date  \\\n",
      "0      2017-09-13 08:59:02  2017-09-13 09:45:35          2017-09-19 18:34:16   \n",
      "1      2017-04-26 10:53:06  2017-04-26 11:05:13          2017-05-04 14:35:00   \n",
      "2      2018-01-14 14:33:31  2018-01-14 14:48:30          2018-01-16 12:36:48   \n",
      "3      2018-08-08 10:00:35  2018-08-08 10:10:18          2018-08-10 13:28:00   \n",
      "4      2017-02-04 13:57:51  2017-02-04 14:10:13          2017-02-16 09:46:09   \n",
      "\n",
      "  order_delivered_customer_date order_estimated_delivery_date  \\\n",
      "0           2017-09-20 23:43:48           2017-09-29 00:00:00   \n",
      "1           2017-05-12 16:04:24           2017-05-15 00:00:00   \n",
      "2           2018-01-22 13:19:16           2018-02-05 00:00:00   \n",
      "3           2018-08-14 13:32:39           2018-08-20 00:00:00   \n",
      "4           2017-03-01 16:42:31           2017-03-17 00:00:00   \n",
      "\n",
      "   delivery_time_days  purchase_year  purchase_month  delivery_weekday  \n",
      "0                 7.0           2017               9               2.0  \n",
      "1                16.0           2017               4               4.0  \n",
      "2                 7.0           2018               1               0.0  \n",
      "3                 6.0           2018               8               1.0  \n",
      "4                25.0           2017               2               2.0  \n"
     ]
    }
   ],
   "source": [
    "# Mostrar la estructura de los datos\n",
    "print(data.head())\n"
   ]
  },
  {
   "cell_type": "markdown",
   "metadata": {},
   "source": [
    "# 2 Análisis Exploratorio de Datos (EDA)"
   ]
  },
  {
   "cell_type": "markdown",
   "metadata": {},
   "source": [
    "- Visualización de la distribución del tiempo de entrega en días utilizando un histograma."
   ]
  },
  {
   "cell_type": "code",
   "execution_count": 10,
   "metadata": {},
   "outputs": [
    {
     "data": {
      "image/png": "[encoded data removed]",
      "text/plain": [
       "<Figure size 1200x600 with 1 Axes>"
      ]
     },
     "metadata": {},
     "output_type": "display_data"
    }
   ],
   "source": [
    "import matplotlib.pyplot as plt\n",
    "import seaborn as sns\n",
    "\n",
    "# Análisis Exploratorio de Datos\n",
    "plt.figure(figsize=(12, 6))\n",
    "sns.histplot(data['delivery_time_days'], bins=30, kde=True)\n",
    "plt.title('Distribución del Tiempo de Entrega en Días')\n",
    "plt.show()"
   ]
  },
  {
   "cell_type": "markdown",
   "metadata": {},
   "source": [
    "# 3 Ingenieria de caracteristicas"
   ]
  },
  {
   "cell_type": "markdown",
   "metadata": {},
   "source": [
    "- Creación de nuevas características relevantes: año de compra, mes de compra y día de la semana de entrega."
   ]
  },
  {
   "cell_type": "code",
   "execution_count": 11,
   "metadata": {},
   "outputs": [],
   "source": [
    "# Crear nuevas características relevantes\n",
    "data['purchase_year'] = data['order_purchase_timestamp'].dt.year\n",
    "data['purchase_month'] = data['order_purchase_timestamp'].dt.month\n",
    "data['delivery_weekday'] = data['order_delivered_customer_date'].dt.weekday"
   ]
  },
  {
   "cell_type": "markdown",
   "metadata": {},
   "source": [
    "# 4 Entrenamiento de Modelos"
   ]
  },
  {
   "cell_type": "code",
   "execution_count": null,
   "metadata": {},
   "outputs": [],
   "source": [
    "from sklearn.model_selection import train_test_split\n",
    "from sklearn.ensemble import GradientBoostingRegressor\n",
    "from sklearn.metrics import mean_absolute_error\n",
    "\n",
    "# Definir las características (X) y la etiqueta (y)\n",
    "X = data[['purchase_year', 'purchase_month', 'delivery_weekday', 'product_id']]\n",
    "y = data['delivery_time_days']\n",
    "\n",
    "# Dividir los datos en conjuntos de entrenamiento y prueba\n",
    "X_train, X_test, y_train, y_test = train_test_split(X, y, test_size=0.3, random_state=42)\n",
    "\n",
    "# Entrenar el modelo de Gradient Boosting\n",
    "model = GradientBoostingRegressor()\n",
    "model.fit(X_train, y_train)\n",
    "\n",
    "# Realizar predicciones y evaluar el modelo\n",
    "y_pred = model.predict(X_test)\n",
    "print(f'Mean Absolute Error: {mean_absolute_error(y_test, y_pred):.2f} días')\n"
   ]
  },
  {
   "cell_type": "markdown",
   "metadata": {},
   "source": [
    "# 5 Evaluacion y Visualizacion"
   ]
  },
  {
   "cell_type": "markdown",
   "metadata": {},
   "source": [
    "- Visualización de la predicción vs realidad de los tiempos de entrega utilizando un gráfico de dispersión."
   ]
  },
  {
   "cell_type": "code",
   "execution_count": 18,
   "metadata": {},
   "outputs": [
    {
     "ename": "NameError",
     "evalue": "name 'y_pred' is not defined",
     "output_type": "error",
     "traceback": [
      "\u001b[1;31m---------------------------------------------------------------------------\u001b[0m",
      "\u001b[1;31mNameError\u001b[0m                                 Traceback (most recent call last)",
      "Cell \u001b[1;32mIn[18], line 2\u001b[0m\n\u001b[0;32m      1\u001b[0m plt\u001b[38;5;241m.\u001b[39mfigure(figsize\u001b[38;5;241m=\u001b[39m(\u001b[38;5;241m12\u001b[39m, \u001b[38;5;241m6\u001b[39m))\n\u001b[1;32m----> 2\u001b[0m plt\u001b[38;5;241m.\u001b[39mscatter(y_test, \u001b[43my_pred\u001b[49m, alpha\u001b[38;5;241m=\u001b[39m\u001b[38;5;241m0.5\u001b[39m)\n\u001b[0;32m      3\u001b[0m plt\u001b[38;5;241m.\u001b[39mtitle(\u001b[38;5;124m'\u001b[39m\u001b[38;5;124mPredicción vs Realidad de Tiempos de Entrega\u001b[39m\u001b[38;5;124m'\u001b[39m)\n\u001b[0;32m      4\u001b[0m plt\u001b[38;5;241m.\u001b[39mxlabel(\u001b[38;5;124m'\u001b[39m\u001b[38;5;124mTiempos de Entrega Reales (días)\u001b[39m\u001b[38;5;124m'\u001b[39m)\n",
      "\u001b[1;31mNameError\u001b[0m: name 'y_pred' is not defined"
     ]
    },
    {
     "data": {
      "text/plain": [
       "<Figure size 1200x600 with 0 Axes>"
      ]
     },
     "metadata": {},
     "output_type": "display_data"
    }
   ],
   "source": [
    "plt.figure(figsize=(12, 6))\n",
    "plt.scatter(y_test, y_pred, alpha=0.5)\n",
    "plt.title('Predicción vs Realidad de Tiempos de Entrega')\n",
    "plt.xlabel('Tiempos de Entrega Reales (días)')\n",
    "plt.ylabel('Tiempos de Entrega Predichos (días)')\n",
    "plt.show()\n"
   ]
  }
 ],
 "metadata": {
  "kernelspec": {
   "display_name": "Python 3",
   "language": "python",
   "name": "python3"
  },
  "language_info": {
   "codemirror_mode": {
    "name": "ipython",
    "version": 3
   },
   "file_extension": ".py",
   "mimetype": "text/x-python",
   "name": "python",
   "nbconvert_exporter": "python",
   "pygments_lexer": "ipython3",
   "version": "3.12.3"
  }
 },
 "nbformat": 4,
 "nbformat_minor": 2
}
